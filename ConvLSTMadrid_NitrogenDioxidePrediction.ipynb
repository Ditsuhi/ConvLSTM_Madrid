{
  "nbformat": 4,
  "nbformat_minor": 0,
  "metadata": {
    "colab": {
      "name": "ConvLSTMadrid_NitrogenDioxidePrediction.ipynb",
      "provenance": [],
      "collapsed_sections": [],
      "authorship_tag": "ABX9TyNxi85GMPU6ipOXHOs/ICaZ",
      "include_colab_link": true
    },
    "kernelspec": {
      "name": "python3",
      "display_name": "Python 3"
    },
    "language_info": {
      "name": "python"
    },
    "accelerator": "GPU"
  },
  "cells": [
    {
      "cell_type": "markdown",
      "metadata": {
        "id": "view-in-github",
        "colab_type": "text"
      },
      "source": [
        "<a href=\"https://colab.research.google.com/github/Ditsuhi/ConvLSTM_Madrid/blob/main/ConvLSTMadrid_NitrogenDioxidePrediction.ipynb\" target=\"_parent\"><img src=\"https://colab.research.google.com/assets/colab-badge.svg\" alt=\"Open In Colab\"/></a>"
      ]
    },
    {
      "cell_type": "code",
      "metadata": {
        "id": "_7II-4T1iEbw"
      },
      "source": [
        "import zipfile\n",
        "from glob import glob\n",
        "import re\n",
        "import pandas as pd\n",
        "import numpy as np\n",
        "from sklearn.model_selection import train_test_split\n",
        "from sklearn.preprocessing import MinMaxScaler\n",
        "from tensorflow import keras\n",
        "from tensorflow.keras import layers\n",
        "from keras.regularizers import l2\n",
        "from keras.optimizers import Adam\n",
        "from keras.callbacks import EarlyStopping\n",
        "from sklearn.metrics import mean_squared_error\n",
        "\n",
        "\n",
        "\n",
        "\n",
        "#unzip data giving the path of certain dataset\n",
        "# path = '/content/Jan_Jun_2019.zip'\n",
        "path = '/content/Jan_Jun_2020.zip'\n",
        "\n",
        "with zipfile.ZipFile(path, 'r') as zip_ref:\n",
        "    zip_ref.extractall('/content/')\n",
        "\n",
        "airMet = glob(\"/content/content/csvFiles/*.csv\")"
      ],
      "execution_count": 3,
      "outputs": []
    },
    {
      "cell_type": "code",
      "metadata": {
        "id": "A0bsMnY9mmk7"
      },
      "source": [
        "#sort dataset with chronological order\n",
        "def sortingFiles(eachFile):\n",
        "    return int(eachFile) if eachFile.isdigit() else eachFile\n",
        "def natural_keys(eachFile):\n",
        "    return [ sortingFiles(c) for c in re.split('(\\d+)',eachFile)]\n",
        "\n",
        "sorted_airMet = sorted(airMet, key = natural_keys)"
      ],
      "execution_count": 4,
      "outputs": []
    },
    {
      "cell_type": "code",
      "metadata": {
        "id": "VjdO1SK7nA7b"
      },
      "source": [
        "# the following list includes all columns' names, there are 10  columns in total. Depends analysis we will select certain columns and concat them\n",
        "# ['# FID', ' NO2', ' UV', ' windSpeed', ' windDir', ' Temp', ' Humidity', ' Pressure', ' SolarRad', ' Prec']\n",
        "df = [pd.read_csv(f, usecols=[' NO2', ' Temp', ' Humidity']).values for f in sorted_airMet]\n",
        "df_all = np.asarray(df)"
      ],
      "execution_count": 5,
      "outputs": []
    },
    {
      "cell_type": "code",
      "metadata": {
        "colab": {
          "base_uri": "https://localhost:8080/"
        },
        "id": "7A9jY6hS3G0Y",
        "outputId": "355be4d3-d41b-4797-8c50-3641158afc96"
      },
      "source": [
        "df_all.shape"
      ],
      "execution_count": 6,
      "outputs": [
        {
          "output_type": "execute_result",
          "data": {
            "text/plain": [
              "(4368, 340, 3)"
            ]
          },
          "metadata": {
            "tags": []
          },
          "execution_count": 6
        }
      ]
    },
    {
      "cell_type": "code",
      "metadata": {
        "id": "Xqmvg5okqAT6"
      },
      "source": [
        " \n",
        "# split dataset to X and y (dependent and independent)\n",
        "def split_sequence(sequence, time_steps):\n",
        "\tX, y = list(), list()\n",
        "\tfor i in range(len(sequence)):\n",
        "\t\t# find the end of this pattern\n",
        "\t\tend_ix = i + time_steps\n",
        "\t\t# check if we are beyond the sequence\n",
        "\t\tif end_ix+time_steps > len(sequence)-1:\n",
        "\t\t\tbreak\n",
        "\t\t# gather input and output parts of the pattern\n",
        "\t\tseq_x, seq_y = sequence[i:end_ix], sequence[end_ix+time_steps]\n",
        "\t\tX.append(seq_x)\n",
        "\t\ty.append(seq_y)\n",
        "\treturn np.array(X), np.array(y)\n",
        " \n",
        "\n",
        " # define input sequence\n",
        "raw_seq = df_all\n",
        "# choose a number of time steps (there are two case of time lags: 12-hour and 24-hour)\n",
        "time_steps = 12\n",
        "\n",
        "X, y_total = split_sequence(raw_seq, time_steps)\n",
        "#to take only NO2 from whole features as a target variable\n",
        "y =y_total[:, :, 0]"
      ],
      "execution_count": 7,
      "outputs": []
    },
    {
      "cell_type": "code",
      "metadata": {
        "colab": {
          "base_uri": "https://localhost:8080/"
        },
        "id": "GsQVz5a63MVf",
        "outputId": "7c838cf9-6989-453c-bd33-72dedf8dcc6f"
      },
      "source": [
        "X.shape, y.shape"
      ],
      "execution_count": 9,
      "outputs": [
        {
          "output_type": "execute_result",
          "data": {
            "text/plain": [
              "((4344, 12, 340, 3), (4344, 340))"
            ]
          },
          "metadata": {
            "tags": []
          },
          "execution_count": 9
        }
      ]
    },
    {
      "cell_type": "code",
      "metadata": {
        "id": "NXKYD1ZQqAXp"
      },
      "source": [
        "#split data to train and test sets\n",
        "\n",
        "X_train_notNorm, X_test_notNorm, y_train, y_test = train_test_split(X, y, test_size=0.33, shuffle = False)"
      ],
      "execution_count": 10,
      "outputs": []
    },
    {
      "cell_type": "code",
      "metadata": {
        "colab": {
          "base_uri": "https://localhost:8080/"
        },
        "id": "zsvgukRo3koP",
        "outputId": "af86fc8b-7447-4c33-be9b-a5b4798ea1d6"
      },
      "source": [
        "y_test.shape"
      ],
      "execution_count": 14,
      "outputs": [
        {
          "output_type": "execute_result",
          "data": {
            "text/plain": [
              "(1434, 340)"
            ]
          },
          "metadata": {
            "tags": []
          },
          "execution_count": 14
        }
      ]
    },
    {
      "cell_type": "code",
      "metadata": {
        "id": "NbCaxh3OtBGA"
      },
      "source": [
        "# to normalise train data using MinMaxScaler\n",
        "number_selected_columns = 3\n",
        "\n",
        "scaler = MinMaxScaler(feature_range=(0, 1), copy = False)\n",
        "train_Normalised = X_train_notNorm.reshape(-1, 340*number_selected_columns)\n",
        "test_Normalised = X_test_notNorm.reshape(-1, 340*number_selected_columns)\n",
        "\n",
        "train_scaled = scaler.fit_transform(train_Normalised)\n",
        "test_scaled = scaler.transform(test_Normalised)\n",
        "\n",
        "X_train = train_scaled.reshape(X_train_notNorm.shape[0], X_train_notNorm.shape[1], X_train_notNorm.shape[2], X_train_notNorm.shape[3])\n",
        "X_test = test_scaled.reshape(X_test_notNorm.shape[0], X_test_notNorm.shape[1], X_test_notNorm.shape[2], X_test_notNorm.shape[3])"
      ],
      "execution_count": 11,
      "outputs": []
    },
    {
      "cell_type": "code",
      "metadata": {
        "colab": {
          "base_uri": "https://localhost:8080/"
        },
        "id": "wjNhDdxw3Y8h",
        "outputId": "bf64942b-d2f6-479a-ba67-a52c05acc5b0"
      },
      "source": [
        "X_train.shape"
      ],
      "execution_count": 12,
      "outputs": [
        {
          "output_type": "execute_result",
          "data": {
            "text/plain": [
              "(2910, 12, 340, 3)"
            ]
          },
          "metadata": {
            "tags": []
          },
          "execution_count": 12
        }
      ]
    },
    {
      "cell_type": "code",
      "metadata": {
        "id": "VJ1aNLIDuDpm"
      },
      "source": [
        "#reshape data for further analysis\n",
        "\n",
        "X_train_reshaped = X_train.reshape((X_train.shape[0], X_train.shape[1], 340, number_selected_columns, 1))\n",
        "y_train_reshaped = y_train.reshape((y_train.shape[0], 340, 1, 1))\n",
        "X_test_reshaped = X_test.reshape((X_test.shape[0], X_test.shape[1], 340, number_selected_columns, 1))\n",
        "y_test_reshaped = y_test.reshape(y_test.shape[0], 340)"
      ],
      "execution_count": 15,
      "outputs": []
    },
    {
      "cell_type": "code",
      "metadata": {
        "colab": {
          "base_uri": "https://localhost:8080/"
        },
        "id": "A0TAvFHKt0EO",
        "outputId": "1e1e8ac7-83b9-49b1-b18a-4d2fa3622bfc"
      },
      "source": [
        "#create model architecture\n",
        "\n",
        "model = keras.Sequential([keras.Input(shape=(None,  340, number_selected_columns, 1)),          \n",
        "        layers.ConvLSTM2D(filters=16, kernel_size=(3, 3), padding=\"same\", return_sequences=True, kernel_regularizer=l2(0.01)),   \n",
        "        layers.Dropout(0.5),\n",
        "        layers.BatchNormalization(),    \n",
        "        layers.ConvLSTM2D(filters=32, kernel_size=(3, 3), padding=\"same\", return_sequences=True),        \n",
        "        layers.BatchNormalization(),\n",
        "        layers.ConvLSTM2D(filters=32, kernel_size=(3, 3), padding=\"same\", return_sequences=True),\n",
        "        layers.BatchNormalization(),\n",
        "        layers.ConvLSTM2D(filters=16, kernel_size=(3, 3), padding=\"same\", return_sequences=True),\n",
        "        layers.BatchNormalization(),          \n",
        "        layers.ConvLSTM2D(filters=1, kernel_size=(1, number_selected_columns), activation='relu')])\n",
        "\n",
        "\n",
        "model.compile(optimizer=\"adam\", loss='mse')\n",
        "model.summary()\n"
      ],
      "execution_count": 16,
      "outputs": [
        {
          "output_type": "stream",
          "text": [
            "Model: \"sequential\"\n",
            "_________________________________________________________________\n",
            "Layer (type)                 Output Shape              Param #   \n",
            "=================================================================\n",
            "conv_lst_m2d (ConvLSTM2D)    (None, None, 340, 3, 16)  9856      \n",
            "_________________________________________________________________\n",
            "dropout (Dropout)            (None, None, 340, 3, 16)  0         \n",
            "_________________________________________________________________\n",
            "batch_normalization (BatchNo (None, None, 340, 3, 16)  64        \n",
            "_________________________________________________________________\n",
            "conv_lst_m2d_1 (ConvLSTM2D)  (None, None, 340, 3, 32)  55424     \n",
            "_________________________________________________________________\n",
            "batch_normalization_1 (Batch (None, None, 340, 3, 32)  128       \n",
            "_________________________________________________________________\n",
            "conv_lst_m2d_2 (ConvLSTM2D)  (None, None, 340, 3, 32)  73856     \n",
            "_________________________________________________________________\n",
            "batch_normalization_2 (Batch (None, None, 340, 3, 32)  128       \n",
            "_________________________________________________________________\n",
            "conv_lst_m2d_3 (ConvLSTM2D)  (None, None, 340, 3, 16)  27712     \n",
            "_________________________________________________________________\n",
            "batch_normalization_3 (Batch (None, None, 340, 3, 16)  64        \n",
            "_________________________________________________________________\n",
            "conv_lst_m2d_4 (ConvLSTM2D)  (None, 340, 1, 1)         208       \n",
            "=================================================================\n",
            "Total params: 167,440\n",
            "Trainable params: 167,248\n",
            "Non-trainable params: 192\n",
            "_________________________________________________________________\n"
          ],
          "name": "stdout"
        }
      ]
    },
    {
      "cell_type": "code",
      "metadata": {
        "id": "LwU5VszbvH2N"
      },
      "source": [
        "# Validation_split, it takes the last part of the training set\n",
        "# run the model using earlystopping in order to escape overfitting\n",
        "\n",
        "\n",
        "es = EarlyStopping(monitor='val_loss', mode='min', verbose=1, patience=5, restore_best_weights=True)\n",
        "history = model.fit(X_train_reshaped, y_train_reshaped,  epochs=100, verbose=2, validation_split=0.1, shuffle=False, callbacks=[es])\n",
        "# demonstrate prediction"
      ],
      "execution_count": null,
      "outputs": []
    },
    {
      "cell_type": "code",
      "metadata": {
        "id": "LSUBfKDuvo-v"
      },
      "source": [
        "# calculate error in test set\n",
        "yhat = model.predict(X_test_reshaped , verbose=1)\n",
        "yhat_reshaped = yhat.reshape(y_test.shape[0], 340)\n",
        "\n",
        "\n",
        "testScore = mean_squared_error(yhat_reshaped, y_test_reshaped, squared=False)\n",
        "print('Test Score: %.2f RMSE' % (testScore))\n"
      ],
      "execution_count": null,
      "outputs": []
    },
    {
      "cell_type": "code",
      "metadata": {
        "id": "OCl0MLH0vH5t"
      },
      "source": [
        ""
      ],
      "execution_count": null,
      "outputs": []
    },
    {
      "cell_type": "code",
      "metadata": {
        "id": "HWY1VqZAvH9C"
      },
      "source": [
        ""
      ],
      "execution_count": null,
      "outputs": []
    },
    {
      "cell_type": "code",
      "metadata": {
        "id": "A2lZ7Vb70Z22"
      },
      "source": [
        ""
      ],
      "execution_count": null,
      "outputs": []
    },
    {
      "cell_type": "code",
      "metadata": {
        "id": "kwp6ntQv0Z6V"
      },
      "source": [
        ""
      ],
      "execution_count": null,
      "outputs": []
    },
    {
      "cell_type": "code",
      "metadata": {
        "id": "Oabn5xYy0Z9O"
      },
      "source": [
        ""
      ],
      "execution_count": null,
      "outputs": []
    },
    {
      "cell_type": "code",
      "metadata": {
        "id": "-74B4dfp0aAH"
      },
      "source": [
        ""
      ],
      "execution_count": null,
      "outputs": []
    },
    {
      "cell_type": "code",
      "metadata": {
        "id": "GZf9_qZs0aJv"
      },
      "source": [
        ""
      ],
      "execution_count": null,
      "outputs": []
    }
  ]
}